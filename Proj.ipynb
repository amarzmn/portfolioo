{
  "nbformat": 4,
  "nbformat_minor": 0,
  "metadata": {
    "colab": {
      "name": "Proj.ipynb",
      "provenance": []
    },
    "kernelspec": {
      "name": "python3",
      "display_name": "Python 3"
    }
  },
  "cells": [
    {
      "cell_type": "code",
      "metadata": {
        "id": "Ri-GNY4VQfDz"
      },
      "source": [
        "import pandas as pd\r\n",
        "import matplotlib.pyplot as plt\r\n",
        "import seaborn as sns\r\n",
        "import numpy as np\r\n",
        "import io"
      ],
      "execution_count": 2,
      "outputs": []
    },
    {
      "cell_type": "code",
      "metadata": {
        "colab": {
          "resources": {
            "http://localhost:8080/nbextensions/google.colab/files.js": {
              "data": "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",
              "ok": true,
              "headers": [
                [
                  "content-type",
                  "application/javascript"
                ]
              ],
              "status": 200,
              "status_text": ""
            }
          },
          "base_uri": "https://localhost:8080/",
          "height": 72
        },
        "id": "MkZNh-ceQjPz",
        "outputId": "37a69c7a-3c88-49a5-8836-80255b897341"
      },
      "source": [
        "#LOADING DATA\r\n",
        "from google.colab import files\r\n",
        "uploaded = files.upload()"
      ],
      "execution_count": 3,
      "outputs": [
        {
          "output_type": "display_data",
          "data": {
            "text/html": [
              "\n",
              "     <input type=\"file\" id=\"files-93b4eef4-0a3c-4b70-9648-0e8936c50561\" name=\"files[]\" multiple disabled\n",
              "        style=\"border:none\" />\n",
              "     <output id=\"result-93b4eef4-0a3c-4b70-9648-0e8936c50561\">\n",
              "      Upload widget is only available when the cell has been executed in the\n",
              "      current browser session. Please rerun this cell to enable.\n",
              "      </output>\n",
              "      <script src=\"/nbextensions/google.colab/files.js\"></script> "
            ],
            "text/plain": [
              "<IPython.core.display.HTML object>"
            ]
          },
          "metadata": {
            "tags": []
          }
        },
        {
          "output_type": "stream",
          "text": [
            "Saving CPD for rpm and colab.xlsx to CPD for rpm and colab.xlsx\n"
          ],
          "name": "stdout"
        }
      ]
    },
    {
      "cell_type": "code",
      "metadata": {
        "id": "VqnDYLLmQxoN"
      },
      "source": [
        "#READ DATA\r\n",
        "df = pd.read_excel(io.BytesIO(uploaded['CPD for rpm and colab.xlsx']))"
      ],
      "execution_count": 4,
      "outputs": []
    },
    {
      "cell_type": "code",
      "metadata": {
        "id": "cIQEVjfK9CA8"
      },
      "source": [
        "df = df.replace({\"Klasifikasi\":  {\"PBP\":1,\"KAP\":2, \"CPD\":3}})\r\n",
        "df = df.replace({\"TajukLatihan\":  {\"FORUM BULAN PENDIDIK I - UNIVERSITY FOR SOCIETY\":1,\"FORUM BULAN PENDIDIK II - KECEMERLANGAN PERTANIAN MELAHIRKAN USAHAWAN\":2, \"KURSUS ASAS PENGAJARAN (KAP) SIRI 1/2020\":3, \"KURSUS CREATING INTERACTIVE CONTENT WITH H5P\":4, \"KURSUS ASAS PENGAJARAN (KAP) SIRI 2/2020\":5, \"KURSUS DEVELOPING WINNING TEACHING E-PORTFOLIO FOR ACADEMICS\":6, \"KURSUS EDUCATIONAL RESEARCH DESIGN\":7, \"KURSUS PUTRABLAST V3.8 (SIRI 1 - FK & FRSB)\":8,\"KURSUS PUTRABLAST V3.8 (SIRI 2 - FBMK & FSKTM)\":9,\"KURSUS PUTRABLAST V3.8 (SIRI 3 - FEP & FPP)\":10,\"KURSUS PUTRABLAST V3.8 (SIRI 4 - FEM & FS)\":11,\"KURSUS PUTRABLAST V3.8 (SIRI 5 - FBSB & FSTM)\":12,\"KURSUS PUTRABLAST V3.8 (SIRI 6 - FH & FPAS)\":13,\"KURSUS PUTRABLAST V3.8 (SIRI 7 - FP & FBMK)\":14,\"KURSUS SISTEM PUTRABLAST V3.8 (SIRI 8 - FPSK & FPV)\":15,\"KURSUS SISTEM PUTRABLAST V3.8 (SIRI 9 - FSPM, UPMKB)\":16,\"KURSUS VISUAL MESSAGE DESIGN: CRAFTING INFOGRAPHICS FOR PRESENTATIONS\":17,\"MAJLIS PERASMIAN & ASPIRASI NC SEMPENA BULAN PENDIDIK UPM 2020\":18,\"PERTANDINGAN AMALAN TERBAIK INOVASI P&P ANTARA FAKULTI/ PUSAT PENGAJIAN UPM 2020\":19,\"PUTRAFLEX: KURIKULUM FLEKSIBEL UPM\":20, \"SESI PERKONGSIAN AMALAN TERBAIK PELAKSANAAN PUTRAMOOC\":21, \"SESI PERKONGSIAN AMALAN TERBAIK SULAM@UPM\":22, \"SESI PERKONGSIAN INOVASI P&P DARIPADA PENYELIDIKAN GIPP\":23, \"WACANA - INSTRUCTIONAL LEADERSHIP OF HIGHER EDUCATION TEACHING AND LEARNING & MAJLIS PENUTUPAN BULAN PENDIDIK UPM 2020\":24, \"WEBINAR - REIMAGINE AND REDESIGN ONLINE LEARNING EXPERIENCE\":25}})\r\n",
        "df = df.replace({\"Tempat Latihan\":  {\"BILIK LATIHAN EXA, IDEC ALPHA, PUTRA INFOPORT, UPM\":1,\"DEWAN SEMINAR AL-FARABI, FEM, UPM\":2, \"MAKMAL D ICT, UPMKB\":3, \"PLATFORM DALAM TALIAN: ZOOM & YOUTUBE\":4, \"PLATFORM DALAM TALIAN: ZOOM MEETING\":5, \"PUTRA LEARNING SPACE (PLS), CADE, UPM\":6}})\r\n",
        "df = df.replace({\"Jabatan\":  {\"BAHAGIAN HAL EHWAL PELAJAR\":1,\"FAKULTI BAHASA MODEN DAN KOMUNIKASI\":2, \"FAKULTI BIOTEKNOLOGI DAN SAINS BIOMOLEKUL\":3,  \"FAKULTI EKOLOGI MANUSIA\":4,  \"FAKULTI KEJURUTERAAN\":5,  \"FAKULTI PENGAJIAN ALAM SEKITAR\":6,  \"FAKULTI PENGAJIAN PENDIDIKAN\":7, \"FAKULTI PERHUTANAN DAN ALAM SEKITAR\":8,  \"FAKULTI PERTANIAN\":9,  \"FAKULTI PERUBATAN DAN SAINS KESIHATAN\":10,  \"FAKULTI PERUBATAN VETERINAR\":11, \"FAKULTI REKABENTUK DAN SENIBINA\":12,  \"FAKULTI SAINS\":13,  \"FAKULTI SAINS DAN TEKNOLOGI MAKANAN\":14,  \"FAKULTI SAINS KOMPUTER DAN TEKNOLOGI MAKLUMAT\":15, \"INSTITUT KAJIAN PERLADANGAN\":16, \"JABATAN CANSELERI\":17, \"JABATAN SAINS DAN TEKNOLOGI\":18, \"JABATAN SAINS HAIWAN DAN PERIKANAN\":19, \"JABATAN SAINS PERHUTANAN\":20, \"JABATAN SAINS SOSIAL DAN PENGURUSAN\":21, \"JABATAN SAINS TANAMAN\":22, \"PUSAT ASASI SAINS PERTANIAN\":23, \"PUSAT ISLAM\":24,\"PUSAT PEMAJUAN KOMPETENSI BAHASA\":25,\"PUSAT PEMBANGUNAN AKADEMIK\":26,\"PUSAT PEMBANGUNAN MAKLUMAT DAN KOMUNIKASI\":27,\"PUSAT TRANSFORMASI KOMUNITI UNIVERSITI\":28,\"SEKOLAH PERNIAGAAN DAN EKONOMI\":29}})\r\n",
        "df = df.replace({\"Skor Klasifikasi\":  {\"High\":1,\"Middle\":2, \"Low\":3}})"
      ],
      "execution_count": 5,
      "outputs": []
    },
    {
      "cell_type": "code",
      "metadata": {
        "colab": {
          "base_uri": "https://localhost:8080/"
        },
        "id": "C1uWkNHd9W1U",
        "outputId": "62701a0d-9643-4fb5-8220-9b7669c41fc4"
      },
      "source": [
        "df.info()"
      ],
      "execution_count": 6,
      "outputs": [
        {
          "output_type": "stream",
          "text": [
            "<class 'pandas.core.frame.DataFrame'>\n",
            "RangeIndex: 1318 entries, 0 to 1317\n",
            "Data columns (total 7 columns):\n",
            " #   Column            Non-Null Count  Dtype  \n",
            "---  ------            --------------  -----  \n",
            " 0   Klasifikasi       1318 non-null   int64  \n",
            " 1   TajukLatihan      1318 non-null   int64  \n",
            " 2   Tempat Latihan    1318 non-null   int64  \n",
            " 3   Jumlah Jam        1318 non-null   int64  \n",
            " 4   Jabatan           1318 non-null   int64  \n",
            " 5   SkorPenilaian     1318 non-null   float64\n",
            " 6   Skor Klasifikasi  1318 non-null   int64  \n",
            "dtypes: float64(1), int64(6)\n",
            "memory usage: 72.2 KB\n"
          ],
          "name": "stdout"
        }
      ]
    },
    {
      "cell_type": "code",
      "metadata": {
        "id": "SUKduPTP9bWf"
      },
      "source": [
        "#Lets split the data into train and test set\r\n",
        "X = df[['Klasifikasi','TajukLatihan','Tempat Latihan','Jumlah Jam','Jabatan' ]]\r\n",
        "y = df['Skor Klasifikasi']"
      ],
      "execution_count": 7,
      "outputs": []
    },
    {
      "cell_type": "code",
      "metadata": {
        "id": "UsGunzjc9pMw"
      },
      "source": [
        "from sklearn.model_selection import train_test_split\r\n",
        "X_train, X_test, y_train, y_test = train_test_split(X, y, test_size = 0.7, random_state = 0)"
      ],
      "execution_count": 8,
      "outputs": []
    },
    {
      "cell_type": "code",
      "metadata": {
        "id": "97YCR5eR9sCH"
      },
      "source": [
        "#import the classifier\r\n",
        "from sklearn import metrics\r\n",
        "from sklearn.tree import DecisionTreeClassifier\r\n",
        "from sklearn.ensemble import RandomForestClassifier\r\n",
        "from sklearn.linear_model import LogisticRegression"
      ],
      "execution_count": 9,
      "outputs": []
    },
    {
      "cell_type": "markdown",
      "metadata": {
        "id": "u1pmnvwmDGAx"
      },
      "source": [
        "**DECISION TREE**"
      ]
    },
    {
      "cell_type": "code",
      "metadata": {
        "colab": {
          "base_uri": "https://localhost:8080/"
        },
        "id": "UVZC4Fbj9vzO",
        "outputId": "ed31995a-019d-47f5-8fba-d6d9fc808cb4"
      },
      "source": [
        "mod_dt = DecisionTreeClassifier(max_depth = 2, random_state = 1)\r\n",
        "mod_dt.fit(X_train,y_train)\r\n",
        "y_pred=mod_dt.predict(X_test)\r\n",
        "print('Decision Tree:')\r\n",
        "print(\"Accuracy = {:.2f}%\".format(metrics.accuracy_score(y_pred,y_test)*100))\r\n"
      ],
      "execution_count": 10,
      "outputs": [
        {
          "output_type": "stream",
          "text": [
            "Decision Tree:\n",
            "Accuracy = 89.27%\n"
          ],
          "name": "stdout"
        }
      ]
    },
    {
      "cell_type": "markdown",
      "metadata": {
        "id": "7RP_wgtmDKSK"
      },
      "source": [
        "**TUNING**"
      ]
    },
    {
      "cell_type": "code",
      "metadata": {
        "colab": {
          "base_uri": "https://localhost:8080/"
        },
        "id": "ZgIX-sPp-AsU",
        "outputId": "0d1be2d2-2b2a-4090-efd2-e40f563fa879"
      },
      "source": [
        "from sklearn.pipeline import Pipeline\r\n",
        "from sklearn.model_selection import GridSearchCV\r\n",
        "from sklearn.preprocessing import StandardScaler\r\n",
        "from sklearn import decomposition\r\n",
        "\r\n",
        "std_slc = StandardScaler()\r\n",
        "pca = decomposition.PCA()\r\n",
        "mod_dt = DecisionTreeClassifier(max_depth = 2, random_state = 1)\r\n",
        "\r\n",
        "pipe = Pipeline(steps=[('std_slc', std_slc),\r\n",
        "                           ('pca', pca),\r\n",
        "                           ('mod_dt', mod_dt)])\r\n",
        "\r\n",
        "n_components = list(range(1,X.shape[1]+1,1))\r\n",
        "\r\n",
        "criterion = ['gini', 'entropy']\r\n",
        "max_depth = [2,4,6,8,10,12]\r\n",
        "\r\n",
        "parameters = dict(pca__n_components=n_components,\r\n",
        "                      mod_dt__criterion=criterion,\r\n",
        "                      mod_dt__max_depth=max_depth)\r\n",
        "\r\n",
        "clf_GS = GridSearchCV(pipe, parameters)\r\n",
        "clf_GS.fit(X, y)"
      ],
      "execution_count": 15,
      "outputs": [
        {
          "output_type": "execute_result",
          "data": {
            "text/plain": [
              "GridSearchCV(cv=None, error_score=nan,\n",
              "             estimator=Pipeline(memory=None,\n",
              "                                steps=[('std_slc',\n",
              "                                        StandardScaler(copy=True,\n",
              "                                                       with_mean=True,\n",
              "                                                       with_std=True)),\n",
              "                                       ('pca',\n",
              "                                        PCA(copy=True, iterated_power='auto',\n",
              "                                            n_components=None,\n",
              "                                            random_state=None,\n",
              "                                            svd_solver='auto', tol=0.0,\n",
              "                                            whiten=False)),\n",
              "                                       ('mod_dt',\n",
              "                                        DecisionTreeClassifier(ccp_alpha=0.0,\n",
              "                                                               class_weight=None,\n",
              "                                                               criterion='gini',\n",
              "                                                               max_de...\n",
              "                                                               min_samples_split=2,\n",
              "                                                               min_weight_fraction_leaf=0.0,\n",
              "                                                               presort='deprecated',\n",
              "                                                               random_state=1,\n",
              "                                                               splitter='best'))],\n",
              "                                verbose=False),\n",
              "             iid='deprecated', n_jobs=None,\n",
              "             param_grid={'mod_dt__criterion': ['gini', 'entropy'],\n",
              "                         'mod_dt__max_depth': [2, 4, 6, 8, 10, 12],\n",
              "                         'pca__n_components': [1, 2, 3, 4, 5]},\n",
              "             pre_dispatch='2*n_jobs', refit=True, return_train_score=False,\n",
              "             scoring=None, verbose=0)"
            ]
          },
          "metadata": {
            "tags": []
          },
          "execution_count": 15
        }
      ]
    },
    {
      "cell_type": "code",
      "metadata": {
        "colab": {
          "base_uri": "https://localhost:8080/"
        },
        "id": "ptgt8mrs-FEC",
        "outputId": "620bf8a7-095d-4ed1-ab26-3409e778936a"
      },
      "source": [
        "print('Best Criterion:', clf_GS.best_estimator_.get_params()['mod_dt__criterion'])\r\n",
        "print('Best max_depth:', clf_GS.best_estimator_.get_params()['mod_dt__max_depth'])\r\n",
        "print('Best Number Of Components:', clf_GS.best_estimator_.get_params()['pca__n_components'])\r\n",
        "print(); print(clf_GS.best_estimator_.get_params()['mod_dt'])"
      ],
      "execution_count": 16,
      "outputs": [
        {
          "output_type": "stream",
          "text": [
            "Best Criterion: gini\n",
            "Best max_depth: 6\n",
            "Best Number Of Components: 5\n",
            "\n",
            "DecisionTreeClassifier(ccp_alpha=0.0, class_weight=None, criterion='gini',\n",
            "                       max_depth=6, max_features=None, max_leaf_nodes=None,\n",
            "                       min_impurity_decrease=0.0, min_impurity_split=None,\n",
            "                       min_samples_leaf=1, min_samples_split=2,\n",
            "                       min_weight_fraction_leaf=0.0, presort='deprecated',\n",
            "                       random_state=1, splitter='best')\n"
          ],
          "name": "stdout"
        }
      ]
    },
    {
      "cell_type": "code",
      "metadata": {
        "colab": {
          "base_uri": "https://localhost:8080/"
        },
        "id": "GjIYtMmP-Jju",
        "outputId": "6603d1b3-bf23-4ac2-88af-95ecb42a8349"
      },
      "source": [
        "mod_dt = DecisionTreeClassifier(max_depth = 6, random_state = 1, criterion=\"gini\")\r\n",
        "mod_dt.fit(X_train,y_train)\r\n",
        "y_pred=mod_dt.predict(X_test)\r\n",
        "print('Decision Tree:')\r\n",
        "print(\"Accuracy = {:.2f}%\".format(metrics.accuracy_score(y_pred,y_test)*100))"
      ],
      "execution_count": 17,
      "outputs": [
        {
          "output_type": "stream",
          "text": [
            "Decision Tree:\n",
            "Accuracy = 97.18%\n"
          ],
          "name": "stdout"
        }
      ]
    },
    {
      "cell_type": "markdown",
      "metadata": {
        "id": "iK2nBDzDDTFq"
      },
      "source": [
        "**RANDOM FOREST**"
      ]
    },
    {
      "cell_type": "code",
      "metadata": {
        "colab": {
          "base_uri": "https://localhost:8080/"
        },
        "id": "ST1zmRpyBDZd",
        "outputId": "64988358-327e-4399-df9f-d9f97c5dd2b0"
      },
      "source": [
        "from sklearn.ensemble import RandomForestClassifier\r\n",
        "RandomF = RandomForestClassifier(max_depth = 2, random_state = 1)\r\n",
        "RandomF.fit(X_train, y_train)\r\n",
        "y_pred = RandomF.predict(X_test)\r\n",
        "print('Random Forest Model:')\r\n",
        "print(\"Accuracy = {:.2f}%\".format(metrics.accuracy_score(y_pred,y_test)*100))"
      ],
      "execution_count": 22,
      "outputs": [
        {
          "output_type": "stream",
          "text": [
            "Random Forest Model:\n",
            "Accuracy = 94.47%\n"
          ],
          "name": "stdout"
        }
      ]
    },
    {
      "cell_type": "markdown",
      "metadata": {
        "id": "O5m4YboLDWWM"
      },
      "source": [
        "**TUNING**"
      ]
    },
    {
      "cell_type": "code",
      "metadata": {
        "colab": {
          "base_uri": "https://localhost:8080/"
        },
        "id": "IvDa-kCcBIY6",
        "outputId": "45943beb-2494-434d-e37b-8d46ee38afe8"
      },
      "source": [
        "from sklearn.pipeline import Pipeline\r\n",
        "from sklearn.model_selection import GridSearchCV\r\n",
        "from sklearn.preprocessing import StandardScaler\r\n",
        "from sklearn import decomposition\r\n",
        "\r\n",
        "std_slc = StandardScaler()\r\n",
        "pca = decomposition.PCA()\r\n",
        "RandomF = RandomForestClassifier(max_depth = 2, random_state = 1)\r\n",
        "\r\n",
        "pipe = Pipeline(steps=[('std_slc', std_slc),\r\n",
        "                           ('pca', pca),\r\n",
        "                           ('RandomF', RandomF)])\r\n",
        "\r\n",
        "n_components = list(range(1,X.shape[1]+1,1))\r\n",
        "\r\n",
        "criterion = ['gini', 'entropy']\r\n",
        "max_depth = [2,4,6,8,10,12]\r\n",
        "\r\n",
        "parameters = dict(pca__n_components=n_components,\r\n",
        "                      RandomF__criterion=criterion,\r\n",
        "                      RandomF__max_depth=max_depth)\r\n",
        "\r\n",
        "clf_GS = GridSearchCV(pipe, parameters)\r\n",
        "clf_GS.fit(X, y)"
      ],
      "execution_count": 23,
      "outputs": [
        {
          "output_type": "execute_result",
          "data": {
            "text/plain": [
              "GridSearchCV(cv=None, error_score=nan,\n",
              "             estimator=Pipeline(memory=None,\n",
              "                                steps=[('std_slc',\n",
              "                                        StandardScaler(copy=True,\n",
              "                                                       with_mean=True,\n",
              "                                                       with_std=True)),\n",
              "                                       ('pca',\n",
              "                                        PCA(copy=True, iterated_power='auto',\n",
              "                                            n_components=None,\n",
              "                                            random_state=None,\n",
              "                                            svd_solver='auto', tol=0.0,\n",
              "                                            whiten=False)),\n",
              "                                       ('RandomF',\n",
              "                                        RandomForestClassifier(bootstrap=True,\n",
              "                                                               ccp_alpha=0.0,\n",
              "                                                               class_weight=None,\n",
              "                                                               criteri...\n",
              "                                                               min_weight_fraction_leaf=0.0,\n",
              "                                                               n_estimators=100,\n",
              "                                                               n_jobs=None,\n",
              "                                                               oob_score=False,\n",
              "                                                               random_state=1,\n",
              "                                                               verbose=0,\n",
              "                                                               warm_start=False))],\n",
              "                                verbose=False),\n",
              "             iid='deprecated', n_jobs=None,\n",
              "             param_grid={'RandomF__criterion': ['gini', 'entropy'],\n",
              "                         'RandomF__max_depth': [2, 4, 6, 8, 10, 12],\n",
              "                         'pca__n_components': [1, 2]},\n",
              "             pre_dispatch='2*n_jobs', refit=True, return_train_score=False,\n",
              "             scoring=None, verbose=0)"
            ]
          },
          "metadata": {
            "tags": []
          },
          "execution_count": 23
        }
      ]
    },
    {
      "cell_type": "code",
      "metadata": {
        "colab": {
          "base_uri": "https://localhost:8080/"
        },
        "id": "11aYbggjBUJR",
        "outputId": "8a02cf77-f295-4936-c0c9-56e1181b8bb1"
      },
      "source": [
        "print('Best Criterion:', clf_GS.best_estimator_.get_params()['RandomF__criterion'])\r\n",
        "print('Best max_depth:', clf_GS.best_estimator_.get_params()['RandomF__max_depth'])\r\n",
        "print('Best Number Of Components:', clf_GS.best_estimator_.get_params()['pca__n_components'])\r\n",
        "print(); print(clf_GS.best_estimator_.get_params()['RandomF'])"
      ],
      "execution_count": 24,
      "outputs": [
        {
          "output_type": "stream",
          "text": [
            "Best Criterion: gini\n",
            "Best max_depth: 6\n",
            "Best Number Of Components: 2\n",
            "\n",
            "RandomForestClassifier(bootstrap=True, ccp_alpha=0.0, class_weight=None,\n",
            "                       criterion='gini', max_depth=6, max_features='auto',\n",
            "                       max_leaf_nodes=None, max_samples=None,\n",
            "                       min_impurity_decrease=0.0, min_impurity_split=None,\n",
            "                       min_samples_leaf=1, min_samples_split=2,\n",
            "                       min_weight_fraction_leaf=0.0, n_estimators=100,\n",
            "                       n_jobs=None, oob_score=False, random_state=1, verbose=0,\n",
            "                       warm_start=False)\n"
          ],
          "name": "stdout"
        }
      ]
    },
    {
      "cell_type": "code",
      "metadata": {
        "colab": {
          "base_uri": "https://localhost:8080/"
        },
        "id": "c2JZXhB8BWGS",
        "outputId": "440d0cb5-f9ec-41b5-ec03-3eb55e7bc78e"
      },
      "source": [
        "RandomF = RandomForestClassifier(max_depth = 4, random_state = 1, criterion=\"gini\")\r\n",
        "RandomF.fit(X_train,y_train)\r\n",
        "y_pred=RandomF.predict(X_test)\r\n",
        "print('Random Forest:')\r\n",
        "print(\"Accuracy = {:.2f}%\".format(metrics.accuracy_score(y_pred,y_test)*100))"
      ],
      "execution_count": 34,
      "outputs": [
        {
          "output_type": "stream",
          "text": [
            "Random Forest:\n",
            "Accuracy = 96.32%\n"
          ],
          "name": "stdout"
        }
      ]
    },
    {
      "cell_type": "markdown",
      "metadata": {
        "id": "k49y4U0vCdka"
      },
      "source": [
        "**COMPARE**"
      ]
    },
    {
      "cell_type": "code",
      "metadata": {
        "colab": {
          "base_uri": "https://localhost:8080/"
        },
        "id": "k-lUOVhzB0iE",
        "outputId": "755b16ea-8ebc-4e1b-c9fb-86acb707d36f"
      },
      "source": [
        "#Lets compare several machine learning models\r\n",
        "\r\n",
        "# Load libraries\r\n",
        "from pandas import read_csv\r\n",
        "from pandas.plotting import scatter_matrix\r\n",
        "from matplotlib import pyplot\r\n",
        "from sklearn.model_selection import train_test_split\r\n",
        "from sklearn.model_selection import cross_val_score\r\n",
        "from sklearn.model_selection import StratifiedKFold\r\n",
        "from sklearn.metrics import classification_report\r\n",
        "from sklearn.metrics import confusion_matrix\r\n",
        "from sklearn.metrics import accuracy_score\r\n",
        "from sklearn.tree import DecisionTreeClassifier\r\n",
        "from sklearn.ensemble import RandomForestClassifier\r\n",
        "from sklearn.discriminant_analysis import LinearDiscriminantAnalysis\r\n",
        "from sklearn.svm import SVC\r\n",
        "\r\n",
        "# Spot Check Algorithms\r\n",
        "models = []\r\n",
        "models.append(('CART', DecisionTreeClassifier()))\r\n",
        "models.append(('RF', RandomForestClassifier()))\r\n",
        "\r\n",
        "# evaluate each model in turn (on training set)\r\n",
        "results = []\r\n",
        "names = []\r\n",
        "for name, model in models:\r\n",
        "\tkfold = StratifiedKFold(n_splits=10, random_state=1, shuffle=True)\r\n",
        "\tcv_results = cross_val_score(model, X_train, y_train, cv=kfold, scoring='accuracy')\r\n",
        "\tresults.append(cv_results)\r\n",
        "\tnames.append(name)\r\n",
        "\tprint('%s: %f (%f)' % (name, cv_results.mean(), cv_results.std()))"
      ],
      "execution_count": 30,
      "outputs": [
        {
          "output_type": "stream",
          "text": [
            "CART: 1.000000 (0.000000)\n",
            "RF: 1.000000 (0.000000)\n"
          ],
          "name": "stdout"
        }
      ]
    },
    {
      "cell_type": "code",
      "metadata": {
        "colab": {
          "base_uri": "https://localhost:8080/"
        },
        "id": "bZvzCvu0CYFC",
        "outputId": "f04d2972-1602-4d03-a2dd-8f73b60b0478"
      },
      "source": [
        "# Make predictions on validation dataset\r\n",
        "model = SVC(gamma='auto')\r\n",
        "model.fit(X_train, y_train)\r\n",
        "predictions = model.predict(X_test)\r\n",
        "\r\n",
        "# Evaluate predictions\r\n",
        "print(accuracy_score(y_test, predictions))\r\n",
        "print(confusion_matrix(y_test, predictions))\r\n",
        "print(classification_report(y_test, predictions))"
      ],
      "execution_count": 31,
      "outputs": [
        {
          "output_type": "stream",
          "text": [
            "1.0\n",
            "[[653   0   0]\n",
            " [  0 186   0]\n",
            " [  0   0  84]]\n",
            "              precision    recall  f1-score   support\n",
            "\n",
            "           1       1.00      1.00      1.00       653\n",
            "           2       1.00      1.00      1.00       186\n",
            "           3       1.00      1.00      1.00        84\n",
            "\n",
            "    accuracy                           1.00       923\n",
            "   macro avg       1.00      1.00      1.00       923\n",
            "weighted avg       1.00      1.00      1.00       923\n",
            "\n"
          ],
          "name": "stdout"
        }
      ]
    },
    {
      "cell_type": "markdown",
      "metadata": {
        "id": "DKAISY5xBriK"
      },
      "source": [
        "**VISUALIZATION**"
      ]
    },
    {
      "cell_type": "code",
      "metadata": {
        "colab": {
          "base_uri": "https://localhost:8080/",
          "height": 281
        },
        "id": "w_GcbeCW_uFI",
        "outputId": "c7a4ff6a-56c2-465f-b4c0-d463dc346366"
      },
      "source": [
        "# histograms\r\n",
        "df.hist()\r\n",
        "plt.show()"
      ],
      "execution_count": 18,
      "outputs": [
        {
          "output_type": "display_data",
          "data": {
            "image/png": "[encoded data removed]",
            "text/plain": [
              "<Figure size 432x288 with 9 Axes>"
            ]
          },
          "metadata": {
            "tags": [],
            "needs_background": "light"
          }
        }
      ]
    },
    {
      "cell_type": "code",
      "metadata": {
        "colab": {
          "base_uri": "https://localhost:8080/",
          "height": 611
        },
        "id": "t-eU8Flc_5Be",
        "outputId": "c9f11c91-9771-4ac2-f285-d8f695dfff91"
      },
      "source": [
        "#lets visualize the boxplot using Seaborn library\r\n",
        "# Box plot, also known as a box and whisker plot, displays a summary of a large amount of data \r\n",
        "# in five numbers — minimum, lower quartile(25th percentile), median(50th percentile), upper quartile(75th percentile) \r\n",
        "# and maximum data values.\r\n",
        "\r\n",
        "sns.set(style=\"ticks\") \r\n",
        "plt.figure(figsize=(12,10))\r\n",
        "plt.subplot(2,2,1)\r\n",
        "sns.boxplot(x='Klasifikasi',y='SkorPenilaian',data=df)\r\n",
        "plt.subplot(2,2,2)\r\n",
        "sns.boxplot(x='Klasifikasi',y='SkorPenilaian',data=df)\r\n",
        "plt.subplot(2,2,3)\r\n",
        "sns.boxplot(x='Klasifikasi',y='SkorPenilaian',data=df)\r\n",
        "plt.subplot(2,2,4)\r\n",
        "sns.boxplot(x='Klasifikasi',y='SkorPenilaian',data=df)\r\n",
        "plt.show()"
      ],
      "execution_count": 19,
      "outputs": [
        {
          "output_type": "display_data",
          "data": {
            "image/png": "[encoded data removed]",
            "text/plain": [
              "<Figure size 864x720 with 4 Axes>"
            ]
          },
          "metadata": {
            "tags": []
          }
        }
      ]
    },
    {
      "cell_type": "markdown",
      "metadata": {
        "id": "6d5iodxkClDM"
      },
      "source": [
        "# **CLUSTERING**"
      ]
    },
    {
      "cell_type": "code",
      "metadata": {
        "colab": {
          "base_uri": "https://localhost:8080/",
          "height": 301
        },
        "id": "vtK13pEGAQ6V",
        "outputId": "ca8f9047-be13-4dd4-c15b-b274e6c9e0ab"
      },
      "source": [
        "x = df.iloc[:, [0, 1, 2, 3]].values\r\n",
        "\r\n",
        "#USING ELBOW METHOD to identify the best k-value\r\n",
        "from sklearn.cluster import KMeans\r\n",
        "Error =[]\r\n",
        "for i in range(1, 11):\r\n",
        "    kmeans = KMeans(n_clusters = i).fit(x)\r\n",
        "    kmeans.fit(x)\r\n",
        "    Error.append(kmeans.inertia_)\r\n",
        "import matplotlib.pyplot as plt\r\n",
        "plt.plot(range(1, 11), Error)\r\n",
        "plt.title('Elbow method')\r\n",
        "plt.xlabel('No of clusters')\r\n",
        "plt.ylabel('Error')\r\n",
        "plt.show()"
      ],
      "execution_count": 32,
      "outputs": [
        {
          "output_type": "display_data",
          "data": {
            "image/png": "[encoded data removed]",
            "text/plain": [
              "<Figure size 432x288 with 1 Axes>"
            ]
          },
          "metadata": {
            "tags": []
          }
        }
      ]
    },
    {
      "cell_type": "code",
      "metadata": {
        "colab": {
          "base_uri": "https://localhost:8080/"
        },
        "id": "HCsfeKeECs6d",
        "outputId": "28a98e8b-8a3e-4128-a76f-f91a7f7acdd1"
      },
      "source": [
        "#let us predict using kmeans=3\r\n",
        "kmeans3 = KMeans(n_clusters=3)\r\n",
        "y_kmeans3 = kmeans3.fit_predict(x)\r\n",
        "print(y_kmeans3)\r\n",
        "\r\n",
        "kmeans3.cluster_centers_"
      ],
      "execution_count": 33,
      "outputs": [
        {
          "output_type": "stream",
          "text": [
            "[0 0 0 ... 2 2 2]\n"
          ],
          "name": "stdout"
        },
        {
          "output_type": "execute_result",
          "data": {
            "text/plain": [
              "array([[ 1.22757112, 20.64442013,  3.8107221 ,  2.3238512 ],\n",
              "       [ 2.        ,  3.65934066,  2.98901099, 38.03296703],\n",
              "       [ 2.17891374,  6.03833866,  2.91373802,  2.8370607 ]])"
            ]
          },
          "metadata": {
            "tags": []
          },
          "execution_count": 33
        }
      ]
    },
    {
      "cell_type": "code",
      "metadata": {
        "colab": {
          "base_uri": "https://localhost:8080/",
          "height": 285
        },
        "id": "9MDcYusGCxEg",
        "outputId": "301ccbe9-ac42-4da7-f3f9-3373a15ea712"
      },
      "source": [
        "#visualizing clustering\r\n",
        "plt.scatter(x[:,0], x[:,1],c=y_kmeans3, cmap='rainbow')"
      ],
      "execution_count": 35,
      "outputs": [
        {
          "output_type": "execute_result",
          "data": {
            "text/plain": [
              "<matplotlib.collections.PathCollection at 0x7f0c59174f28>"
            ]
          },
          "metadata": {
            "tags": []
          },
          "execution_count": 35
        },
        {
          "output_type": "display_data",
          "data": {
            "image/png": "[encoded data removed]",
            "text/plain": [
              "<Figure size 432x288 with 1 Axes>"
            ]
          },
          "metadata": {
            "tags": []
          }
        }
      ]
    }
  ]
}